{
  "nbformat": 4,
  "nbformat_minor": 0,
  "metadata": {
    "colab": {
      "name": "1a_lista_torraca_gr.ipynb",
      "provenance": [],
      "collapsed_sections": []
    },
    "kernelspec": {
      "name": "python3",
      "display_name": "Python 3"
    }
  },
  "cells": [
    {
      "cell_type": "markdown",
      "metadata": {
        "id": "0elixoydhII-"
      },
      "source": [
        "# **Otimização de Processos (COQ897)** \r\n",
        "# *Prof. Argimiro R. Secchi*\r\n",
        "\r\n",
        "$\\\r\n",
        "$\r\n",
        "\r\n",
        "Primeira Lista de Exercícios - 2020\r\n",
        "\r\n",
        "$\\\r\n",
        "$\r\n",
        "\r\n",
        "***José Rodrigues Torraca Neto***\r\n",
        "\r\n",
        "$\\\r\n",
        "$\r\n",
        "\r\n",
        "1) A engenheira Diana Prince (!), responsável por um determinado processo químico, notou, ainda na fase de projeto da planta, a ocorrência da reação de hidrogenação do eteno:\r\n",
        "\r\n",
        ">$$C_{2}H_{4} + H_{2} \\ {\\rightleftarrows} \\  C_{2}H_{6}$$\r\n",
        ">\r\n",
        ">$$n_{2} \\qquad  n_{3} \\qquad n_{1}$$\r\n",
        "\r\n",
        "\r\n",
        "que para fins do processo em questão é indesejada. Querendo saber a quantidade de eteno que seria perdida no processo, Diana decidiu calcular o número de mols $n_{1}$ , $n_{2}$  e $n_{3}$  das espécies em equilíbrio, lembrando que, no equilíbrio, a energia de Gibbs total do sistema, $G_{t}$($n_{1}, n_{2}, n_{3}$) é mínima. Sabendo que as espécies atômicas se conservam, qual foi o problema de otimização formulado pela Eng. Diana?"
      ]
    },
    {
      "cell_type": "markdown",
      "metadata": {
        "id": "ZMCFr-wTvJ_G"
      },
      "source": [
        "$\\\r\n",
        "$\r\n",
        "\r\n",
        "## ***Solução:***\r\n",
        "\r\n",
        "O problema de otimização em questão é minimizar a função objetivo dada pela energia livre de Gibbs (G).\r\n",
        "\r\n",
        "Para qualquer processo infinitesimal em que a quantidade de espécies\r\n",
        "presente pode ser alterada pela transferência de espécies de/para uma fase ou por reação química, o diferencial da energia livre de Gibbs é dado por:\r\n",
        "\r\n",
        ">$dG= SdT + VdP + \\sum\\limits_{i=1}^{n} \\ \\mu_{i}dn_{i} \\qquad (1)$ \r\n",
        "\r\n",
        "Onde G, S, T e P são: a energia livre de Gibbs, a entropia, a temperatura e a\r\n",
        "pressão (total), respectivamente. A energia livre molal parcial da espécie i é $\\mu_{i}$ (potencial químico),\r\n",
        "e $n_{i}$ é o número de moles da espécie i no sistema.\r\n",
        "\r\n",
        "Se for assumido que a temperatura e a pressão são mantidas constantes durante o processo, dT e dP desaparecem.\r\n",
        "Se agora fizermos alterações em $n_{i}$ de modo que $dn_{i} = dkn_{i}$, com as variações em $n_{i}$ na mesma proporção k; então, uma vez que G é uma quantidade extensiva, devemos ter $dG = dkG$. Isso implica que:\r\n",
        "\r\n",
        ">$G=\\sum\\limits_{i=1}^{n} \\ \\mu_{i}n_{i} \\qquad (2)$\r\n",
        "\r\n",
        "A comparação das Equações (1) e (2) mostra que os potenciais químicos são quantidades intensivas, ou seja, não dependem da quantidade de cada espécie, pois se todos os $n_{i}$ são aumentados na mesma proporção com T e P constantes, $\\mu_{i}$ deve permanecer inalterado para G aumentar na mesma taxa que $n_{i}$. Esta propriedade de invariância do $\\mu_{i}$ é de extrema importância para restringir as formas possíveis que o $\\mu_{i}$ pode assumir.\r\n",
        "\r\n",
        "A equação (2) expressa a energia livre de Gibbs em termos dos números molares $n_{i}$, que aparecem explícita e implicitamente (no $\\mu_{i}$) no lado direito.\r\n",
        "A energia livre de Gibbs é mínima quando o sistema está em equilíbrio. O problema básico, então, torna-se o de encontrar aquele conjunto de $n_{i}$ que torna G um mínimo.\r\n",
        "\r\n",
        "Sendo $n_{i}^*$ o número de moles dos compostos em equilíbrio e M (3) o número de elementos presentes no sistema, e presumindo que o número inicial de moles de cada composto é conhecido:\r\n",
        "\r\n",
        "\r\n",
        "O problema consiste em (com T e P ctes):\r\n",
        "\r\n",
        ">$Minimizar \\quad G= \\sum\\limits_{i=1}^{M = 3} \\ (\\mu_{i}^o + RT lnP +RT lnx_{i}) n_{i}\r\n",
        "\\\\\r\n",
        "G= RTlnP + [\\sum\\limits_{i} \\ \\mu_{i}^o + RT \\sum\\limits_{i} lnx_{i}] (n_{i})\r\n",
        "\\\\\r\n",
        ",\\ com \\quad RTlnP=cte, \\quad \\mu_{i}^o = \\sum\\limits_{i} \\ RTlnK_{x}, \\quad x_{i} = \\frac{n_{i}}{n} = \\frac{n_{i}}{\\sum{n_{i}}}\r\n",
        "\\\\\r\n",
        ",\\ sujeito \\ ao \\ balanço \\ estequiométrico:\r\n",
        "\\\\\r\n",
        "\\sum\\limits_{i} \\ a_{ik}n_{i} = b_{k}, \\quad para \\ cada \\  um \\ dos \\ elementos \\ k = 1 \\ ...\\ M(=3)\r\n",
        "\\\\\r\n",
        "e \\ restrições \\ de \\ desigualdade:\r\n",
        "\\\\\r\n",
        "n_{i} \\geq 0\r\n",
        "\\\\\r\n",
        ", \\ com \\quad  n_{i} = x_{i}n.\r\n",
        "\\\\\r\n",
        "Para \\ (2) + (3) \\ {\\rightleftarrows} \\  (1), \\quad K_{x} = (\\frac{n_{1}}{n_{T}}) / (\\frac{n_{2}}{n_{T}})(\\frac{n_{3}}{n_{T}})\r\n",
        "$ \r\n",
        "\r\n",
        "\r\n"
      ]
    },
    {
      "cell_type": "markdown",
      "metadata": {
        "id": "QHTvkhpvVhMp"
      },
      "source": [
        "$\r\n",
        "\\\\\r\n",
        "$\r\n",
        "\r\n",
        "2) Dada a função objetivo $ S(x_{1}, x_{2}) = 7,5 x_{1}^2 + 12x_{2}^2 -3 x_{1}^2x_{2}^2 + 18x_{1} +11$, determine a\r\n",
        "localização e a natureza (mínimo, máximo ou sela) dos seus pontos estacionários.\r\n",
        "Esboce o gráfico da superfície da função objetivo em função de $x_{1}$ e $x_{2}$ e outro gráfico\r\n",
        "com 50 curvas de níveis, ambos contendo todos os pontos estacionários encontrados.\r\n",
        "Indique no segundo gráfico a localização dos pontos estacionários."
      ]
    },
    {
      "cell_type": "markdown",
      "metadata": {
        "id": "Vvwi1lXT3jqz"
      },
      "source": [
        "$\r\n",
        "\\\\\r\n",
        "$\r\n",
        "\r\n",
        "## ***Solução:***\r\n",
        "\r\n",
        ">$ S(x_{1}, x_{2}) = 7,5 x_{1}^2 + 12x_{2}^2 -3 x_{1}^2x_{2}^2 + 18x_{1} +11\r\n",
        "\\\\\r\n",
        "\\nabla S(x_{1}, x_{2}) = \r\n",
        " \\begin{pmatrix}\r\n",
        "  15x_{1} -6x_{1}x_{2}^2 + 18  \\\\\r\n",
        "  24x_{2} -6x_{1}^2x_{2}\r\n",
        " \\end{pmatrix}\r\n",
        "\\\\\r\n",
        "Então, para \\ encontrar \\ o \\ ponto \\ ótimo \\ x^*(x_{1}, x_{2}) \\ em \\ que \\  \\nabla S(x_{1}, x_{2}) = 0:\r\n",
        "$"
      ]
    },
    {
      "cell_type": "code",
      "metadata": {
        "colab": {
          "base_uri": "https://localhost:8080/"
        },
        "id": "2fmoONUeWYnX",
        "outputId": "58a45807-e263-4743-fb45-9d2a8d1761a8"
      },
      "source": [
        "import numpy as np\r\n",
        "import scipy.integrate\r\n",
        "import matplotlib.pyplot as plt\r\n",
        "%matplotlib inline\r\n",
        "import scipy.optimize\r\n",
        "\r\n",
        "# definindo o sistema de equações como uma função do Python\r\n",
        "\r\n",
        "def func (x):\r\n",
        "    return [15.0*x[0] - (6.0*x[0])*(x[1])**2. + 18.0, \r\n",
        "            24.0*x[1] - (6.0*x[1])*(x[0])**2.]\r\n",
        "    \r\n",
        "# estimativa inicial \r\n",
        "    \r\n",
        "x0 = [0, 0]\r\n",
        "    \r\n",
        "# resolvendo    \r\n",
        "    \r\n",
        "result = scipy.optimize.root(func, x0)    \r\n",
        "\r\n",
        "# imprimindo resultado\r\n",
        "\r\n",
        "print(result)\r\n",
        "\r\n",
        "print(result.x)"
      ],
      "execution_count": null,
      "outputs": [
        {
          "output_type": "stream",
          "text": [
            "    fjac: array([[-1.,  0.],\n",
            "       [ 0., -1.]])\n",
            "     fun: array([0., 0.])\n",
            " message: 'The solution converged.'\n",
            "    nfev: 5\n",
            "     qtf: array([3.92610389e-11, 0.00000000e+00])\n",
            "       r: array([-15.,   0., -24.])\n",
            "  status: 1\n",
            " success: True\n",
            "       x: array([-1.2,  0. ])\n",
            "[-1.2  0. ]\n"
          ],
          "name": "stdout"
        }
      ]
    },
    {
      "cell_type": "code",
      "metadata": {
        "colab": {
          "base_uri": "https://localhost:8080/"
        },
        "id": "9fLbAWwkCnO7",
        "outputId": "a11d9c82-11aa-49e1-d40c-eb91f70df6ea"
      },
      "source": [
        "def func (x):\r\n",
        "    return [15.0*x[0] - (6.0*x[0])*(x[1])**2. + 18.0, \r\n",
        "            24.0*x[1] - (6.0*x[1])*(x[0])**2.]\r\n",
        "    \r\n",
        "# mudando a estimativa inicial \r\n",
        "    \r\n",
        "x0 = [-5, -5]\r\n",
        "    \r\n",
        "# resolvendo    \r\n",
        "    \r\n",
        "result = scipy.optimize.root(func, x0)    \r\n",
        "\r\n",
        "# imprimindo resultado\r\n",
        "\r\n",
        "print(result)\r\n",
        "\r\n",
        "print(result.x)"
      ],
      "execution_count": null,
      "outputs": [
        {
          "output_type": "stream",
          "text": [
            "    fjac: array([[-0.35114934,  0.93631946],\n",
            "       [-0.93631946, -0.35114934]])\n",
            "     fun: array([ 2.98427949e-13, -7.46069873e-13])\n",
            " message: 'The solution converged.'\n",
            "    nfev: 18\n",
            "     qtf: array([-2.74861469e-09, -5.09792308e-11])\n",
            "       r: array([-25.6602389 ,   7.4602378 ,  22.44745608])\n",
            "  status: 1\n",
            " success: True\n",
            "       x: array([-2., -1.])\n",
            "[-2. -1.]\n"
          ],
          "name": "stdout"
        }
      ]
    },
    {
      "cell_type": "code",
      "metadata": {
        "colab": {
          "base_uri": "https://localhost:8080/"
        },
        "id": "50nIE3FQMJJU",
        "outputId": "3af1a620-499b-4d3d-ac87-ac38b632899b"
      },
      "source": [
        "def func (x):\r\n",
        "    return [15.0*x[0] - (6.0*x[0])*(x[1])**2. + 18.0, \r\n",
        "            24.0*x[1] - (6.0*x[1])*(x[0])**2.]\r\n",
        "    \r\n",
        "# mudando a estimativa inicial \r\n",
        "    \r\n",
        "x0 = [4, 1]\r\n",
        "    \r\n",
        "# resolvendo    \r\n",
        "    \r\n",
        "result = scipy.optimize.root(func, x0)    \r\n",
        "\r\n",
        "# imprimindo resultado\r\n",
        "\r\n",
        "print(result)\r\n",
        "\r\n",
        "print(result.x)"
      ],
      "execution_count": null,
      "outputs": [
        {
          "output_type": "stream",
          "text": [
            "    fjac: array([[ 0.11023129,  0.99390596],\n",
            "       [-0.99390596,  0.11023129]])\n",
            "     fun: array([ 3.55271368e-14, -2.13162821e-14])\n",
            " message: 'The solution converged.'\n",
            "    nfev: 14\n",
            "     qtf: array([7.30358317e-10, 3.00525848e-09])\n",
            "       r: array([-49.58732703,  -5.59353329,  46.46266912])\n",
            "  status: 1\n",
            " success: True\n",
            "       x: array([2., 2.])\n",
            "[2. 2.]\n"
          ],
          "name": "stdout"
        }
      ]
    },
    {
      "cell_type": "code",
      "metadata": {
        "colab": {
          "base_uri": "https://localhost:8080/"
        },
        "id": "FIcgXveDsLsU",
        "outputId": "38b48e6a-2f1b-46e0-e5b1-9bbcd5b78c66"
      },
      "source": [
        "def func (x):\r\n",
        "    return [15.0*x[0] - (6.0*x[0])*(x[1])**2. + 18.0, \r\n",
        "            24.0*x[1] - (6.0*x[1])*(x[0])**2.]\r\n",
        "    \r\n",
        "# mudando a estimativa inicial \r\n",
        "    \r\n",
        "x0 = [3, -3]\r\n",
        "    \r\n",
        "# resolvendo    \r\n",
        "    \r\n",
        "result = scipy.optimize.root(func, x0)    \r\n",
        "\r\n",
        "# imprimindo resultado\r\n",
        "\r\n",
        "print(result)\r\n",
        "\r\n",
        "print(result.x)"
      ],
      "execution_count": null,
      "outputs": [
        {
          "output_type": "stream",
          "text": [
            "    fjac: array([[-0.426927  ,  0.90428609],\n",
            "       [-0.90428609, -0.426927  ]])\n",
            "     fun: array([-2.94377855e-11, -2.13731255e-11])\n",
            " message: 'The solution converged.'\n",
            "    nfev: 13\n",
            "     qtf: array([ 1.06789821e-09, -5.66347549e-09])\n",
            "       r: array([ 44.91346119, -19.06281987, -50.97105675])\n",
            "  status: 1\n",
            " success: True\n",
            "       x: array([ 2., -2.])\n",
            "[ 2. -2.]\n"
          ],
          "name": "stdout"
        }
      ]
    },
    {
      "cell_type": "code",
      "metadata": {
        "colab": {
          "base_uri": "https://localhost:8080/"
        },
        "id": "d6rNzv6Hs3XM",
        "outputId": "405d178c-b23e-4eae-94cc-daa28f5ddb10"
      },
      "source": [
        "def func (x):\r\n",
        "    return [15.0*x[0] - (6.0*x[0])*(x[1])**2. + 18.0, \r\n",
        "            24.0*x[1] - (6.0*x[1])*(x[0])**2.]\r\n",
        "    \r\n",
        "# mudando a estimativa inicial \r\n",
        "    \r\n",
        "x0 = [-3, 3]\r\n",
        "    \r\n",
        "# resolvendo    \r\n",
        "    \r\n",
        "result = scipy.optimize.root(func, x0)    \r\n",
        "\r\n",
        "# imprimindo resultado\r\n",
        "\r\n",
        "print(result)\r\n",
        "\r\n",
        "print(result.x)"
      ],
      "execution_count": null,
      "outputs": [
        {
          "output_type": "stream",
          "text": [
            "    fjac: array([[ 0.16400028,  0.98646029],\n",
            "       [-0.98646029,  0.16400028]])\n",
            "     fun: array([ 1.70530257e-13, -2.69650968e-12])\n",
            " message: 'The solution converged.'\n",
            "    nfev: 16\n",
            "     qtf: array([-1.08506504e-08, -2.51441215e-09])\n",
            "       r: array([ 46.47932236,  52.61229264, -12.39589512])\n",
            "  status: 1\n",
            " success: True\n",
            "       x: array([-2.,  1.])\n",
            "[-2.  1.]\n"
          ],
          "name": "stdout"
        }
      ]
    },
    {
      "cell_type": "markdown",
      "metadata": {
        "id": "HiSKRinIDlWc"
      },
      "source": [
        "$\r\n",
        "\\\\\r\n",
        "$\r\n",
        "\r\n",
        ">$ \r\n",
        "x^* = \r\n",
        " \\begin{pmatrix}\r\n",
        "  -1,2  \\\\\r\n",
        "  0,0\r\n",
        " \\end{pmatrix},\r\n",
        " \\begin{pmatrix}\r\n",
        "  -2,0  \\\\\r\n",
        "  -1,0\r\n",
        " \\end{pmatrix},\r\n",
        " \\begin{pmatrix}\r\n",
        "  2,0  \\\\\r\n",
        "  2,0\r\n",
        " \\end{pmatrix}\r\n",
        " \\begin{pmatrix}\r\n",
        "  2,0  \\\\\r\n",
        "  -2,0\r\n",
        " \\end{pmatrix}\r\n",
        " \\begin{pmatrix}\r\n",
        "  -2,0  \\\\\r\n",
        "  1,0\r\n",
        " \\end{pmatrix}\r\n",
        " \\\\\r\n",
        "\r\n",
        "Calculando \\ a \\ matriz \\ Hessiana:\r\n",
        "\\\\\r\n",
        "H(x) = \r\n",
        " \\begin{pmatrix}\r\n",
        "  15 -6x_{2}^2 & \\ -12x_{1}x_{2}  \\\\\r\n",
        "  -12x_{1}x_{2} & \\  24-6x_{1}^2\r\n",
        " \\end{pmatrix}\r\n",
        " \\\\\r\n",
        " No \\ ponto \\ ótimo\\  x^* = \r\n",
        " \\begin{pmatrix}\r\n",
        "  -1,2  \\\\\r\n",
        "  0,0\r\n",
        " \\end{pmatrix}:\r\n",
        " \\\\\r\n",
        " H(x^*) = \r\n",
        " \\begin{pmatrix}\r\n",
        "  15  & 0 \\\\\r\n",
        "  0 & 15,36\r\n",
        " \\end{pmatrix}\r\n",
        " \\\\\r\n",
        " Logo,\\ a \\ matriz\\  H(x^*)\\  é \\ positiva \\ definida \\ neste \\ ponto, \\ o \\ que \\ implica \\ em \\ x^* = \r\n",
        " \\begin{pmatrix}\r\n",
        "  -1,2  \\\\\r\n",
        "  0,0\r\n",
        " \\end{pmatrix}\\ ser \\ um \\ ponto \\ de \r\n",
        " \\\\\r\n",
        "  mínimo \\ local.\r\n",
        "$"
      ]
    },
    {
      "cell_type": "markdown",
      "metadata": {
        "id": "mMWx0lKJM1U9"
      },
      "source": [
        "$\r\n",
        "\\\\\r\n",
        "$\r\n",
        "\r\n",
        ">$ \r\n",
        "\r\n",
        " No \\ ponto \\ ótimo\\  x^* = \r\n",
        " \\begin{pmatrix}\r\n",
        "  -2,0  \\\\\r\n",
        "  -1,0\r\n",
        " \\end{pmatrix}:\r\n",
        " \\\\\r\n",
        " H(x^*) = \r\n",
        " \\begin{pmatrix}\r\n",
        "  9  & -24 \\\\\r\n",
        "  -24 & 0\r\n",
        " \\end{pmatrix}\r\n",
        " \\\\\r\n",
        " Como\\ a \\ matriz\\  H(x^*)\\ não \\ é \\ diagonal \\ neste \\ ponto, \\ temos \\ que \\ calcular \\ seus \\ autovalores \\ (\\lambda):\r\n",
        "\r\n",
        "$"
      ]
    },
    {
      "cell_type": "code",
      "metadata": {
        "colab": {
          "base_uri": "https://localhost:8080/"
        },
        "id": "cSIAvqsILSYV",
        "outputId": "156ef155-f544-4680-9c73-b6ed7a23cbae"
      },
      "source": [
        "B = np.array([[9, -24],\r\n",
        "              [-24, 0]])\r\n",
        "\r\n",
        "sigma = np.linalg.eigvals(B)\r\n",
        "sigma"
      ],
      "execution_count": null,
      "outputs": [
        {
          "output_type": "execute_result",
          "data": {
            "text/plain": [
              "array([ 28.91823089, -19.91823089])"
            ]
          },
          "metadata": {
            "tags": []
          },
          "execution_count": 7
        }
      ]
    },
    {
      "cell_type": "markdown",
      "metadata": {
        "id": "NG2ErwmJOXYU"
      },
      "source": [
        "$\r\n",
        "\\\\\r\n",
        "$\r\n",
        ">$ \r\n",
        "\r\n",
        " \\lambda = \r\n",
        " \\begin{pmatrix}\r\n",
        "  28,9\\\\\r\n",
        "  -19,9\r\n",
        " \\end{pmatrix}\r\n",
        " \\\\\r\n",
        "Logo,\\ a \\ matriz\\  H(x^*)\\ não \\ é \\ definida \\ neste \\ ponto, \\ o \\ que \\ implica \\ em \\ x^* = \r\n",
        " \\begin{pmatrix}\r\n",
        "  -2,0  \\\\\r\n",
        "  -1,0\r\n",
        " \\end{pmatrix}\\ ser \\ um \\ ponto \\ de \r\n",
        " \\\\\r\n",
        "  sela.\r\n",
        "\r\n",
        "$"
      ]
    },
    {
      "cell_type": "markdown",
      "metadata": {
        "id": "fBuDjR3XPYYc"
      },
      "source": [
        "$\r\n",
        "\\\\\r\n",
        "$\r\n",
        "\r\n",
        ">$ \r\n",
        "\r\n",
        " No \\ ponto \\ ótimo\\  x^* = \r\n",
        " \\begin{pmatrix}\r\n",
        "  2,0  \\\\\r\n",
        "  2,0\r\n",
        " \\end{pmatrix}:\r\n",
        " \\\\\r\n",
        " H(x^*) = \r\n",
        " \\begin{pmatrix}\r\n",
        "  -9  & -48 \\\\\r\n",
        "  -48 & 0\r\n",
        " \\end{pmatrix}\r\n",
        " \\\\\r\n",
        " Como\\ a \\ matriz\\  H(x^*)\\ não \\ é \\ diagonal \\ neste \\ ponto, \\ temos \\ que \\ calcular \\ seus \\ autovalores \\ (\\lambda):\r\n",
        "\r\n",
        "$"
      ]
    },
    {
      "cell_type": "code",
      "metadata": {
        "colab": {
          "base_uri": "https://localhost:8080/"
        },
        "id": "GwplO-BzPnkS",
        "outputId": "c3d2845b-49eb-4719-8f38-4e2abc62e967"
      },
      "source": [
        "C = np.array([[-9, -48],\r\n",
        "              [-48, 0]])\r\n",
        "\r\n",
        "sigma = np.linalg.eigvals(C)\r\n",
        "sigma"
      ],
      "execution_count": null,
      "outputs": [
        {
          "output_type": "execute_result",
          "data": {
            "text/plain": [
              "array([-52.71047604,  43.71047604])"
            ]
          },
          "metadata": {
            "tags": []
          },
          "execution_count": 8
        }
      ]
    },
    {
      "cell_type": "markdown",
      "metadata": {
        "id": "LqOUg4DQP0d5"
      },
      "source": [
        "$\r\n",
        "\\\\\r\n",
        "$\r\n",
        ">$ \r\n",
        "\r\n",
        " \\lambda = \r\n",
        " \\begin{pmatrix}\r\n",
        "  -52,7\\\\\r\n",
        "  43,7\r\n",
        " \\end{pmatrix}\r\n",
        " \\\\\r\n",
        "Logo,\\ a \\ matriz\\  H(x^*)\\ não \\ é \\ definida \\ neste \\ ponto, \\ o \\ que \\ implica \\ em \\ x^* = \r\n",
        " \\begin{pmatrix}\r\n",
        "  2,0  \\\\\r\n",
        "  2,0\r\n",
        " \\end{pmatrix}\\ ser \\ um \\ ponto \\ de \r\n",
        " \\\\\r\n",
        "  sela.\r\n",
        "\r\n",
        "$"
      ]
    },
    {
      "cell_type": "markdown",
      "metadata": {
        "id": "VxcZQCGXt7er"
      },
      "source": [
        "$\r\n",
        "\\\\\r\n",
        "$\r\n",
        "\r\n",
        ">$ \r\n",
        "\r\n",
        " No \\ ponto \\ ótimo\\  x^* = \r\n",
        " \\begin{pmatrix}\r\n",
        "  2,0  \\\\\r\n",
        "  -2,0\r\n",
        " \\end{pmatrix}:\r\n",
        " \\\\\r\n",
        " H(x^*) = \r\n",
        " \\begin{pmatrix}\r\n",
        "  -9  & 48 \\\\\r\n",
        "  48 & 0\r\n",
        " \\end{pmatrix}\r\n",
        " \\\\\r\n",
        " Como\\ a \\ matriz\\  H(x^*)\\ não \\ é \\ diagonal \\ neste \\ ponto, \\ temos \\ que \\ calcular \\ seus \\ autovalores \\ (\\lambda):\r\n",
        "\r\n",
        "$"
      ]
    },
    {
      "cell_type": "code",
      "metadata": {
        "colab": {
          "base_uri": "https://localhost:8080/"
        },
        "id": "gEdHhiBqv1Mp",
        "outputId": "9b2b7215-684e-494c-fe1a-775971511a6e"
      },
      "source": [
        "C = np.array([[-9, 48],\r\n",
        "              [48, 0]])\r\n",
        "\r\n",
        "sigma = np.linalg.eigvals(C)\r\n",
        "sigma"
      ],
      "execution_count": null,
      "outputs": [
        {
          "output_type": "execute_result",
          "data": {
            "text/plain": [
              "array([-52.71047604,  43.71047604])"
            ]
          },
          "metadata": {
            "tags": []
          },
          "execution_count": 9
        }
      ]
    },
    {
      "cell_type": "markdown",
      "metadata": {
        "id": "lJYuMIInv7V4"
      },
      "source": [
        "$\r\n",
        "\\\\\r\n",
        "$\r\n",
        ">$ \r\n",
        "\r\n",
        " \\lambda = \r\n",
        " \\begin{pmatrix}\r\n",
        "  -52,7\\\\\r\n",
        "  43,7\r\n",
        " \\end{pmatrix}\r\n",
        " \\\\\r\n",
        "Logo,\\ a \\ matriz\\  H(x^*)\\ não \\ é \\ definida \\ neste \\ ponto, \\ o \\ que \\ implica \\ em \\ x^* = \r\n",
        " \\begin{pmatrix}\r\n",
        "  2,0  \\\\\r\n",
        "  -2,0\r\n",
        " \\end{pmatrix}\\ ser \\ um \\ ponto \\ de \r\n",
        " \\\\\r\n",
        "  sela.\r\n",
        "\r\n",
        "$"
      ]
    },
    {
      "cell_type": "markdown",
      "metadata": {
        "id": "SSsMVUZGwDcQ"
      },
      "source": [
        "$\r\n",
        "\\\\\r\n",
        "$\r\n",
        "\r\n",
        ">$ \r\n",
        "\r\n",
        " No \\ ponto \\ ótimo\\  x^* = \r\n",
        " \\begin{pmatrix}\r\n",
        "  -2,0  \\\\\r\n",
        "  1,0\r\n",
        " \\end{pmatrix}:\r\n",
        " \\\\\r\n",
        " H(x^*) = \r\n",
        " \\begin{pmatrix}\r\n",
        "  9  & 24 \\\\\r\n",
        "  24 & 0\r\n",
        " \\end{pmatrix}\r\n",
        " \\\\\r\n",
        " Como\\ a \\ matriz\\  H(x^*)\\ não \\ é \\ diagonal \\ neste \\ ponto, \\ temos \\ que \\ calcular \\ seus \\ autovalores \\ (\\lambda):\r\n",
        "\r\n",
        "$"
      ]
    },
    {
      "cell_type": "code",
      "metadata": {
        "colab": {
          "base_uri": "https://localhost:8080/"
        },
        "id": "xofGjxurwYlQ",
        "outputId": "1f2f9032-c5f1-4e8d-ac95-d019cde8c109"
      },
      "source": [
        "C = np.array([[9, 24],\r\n",
        "              [24, 0]])\r\n",
        "\r\n",
        "sigma = np.linalg.eigvals(C)\r\n",
        "sigma"
      ],
      "execution_count": null,
      "outputs": [
        {
          "output_type": "execute_result",
          "data": {
            "text/plain": [
              "array([ 28.91823089, -19.91823089])"
            ]
          },
          "metadata": {
            "tags": []
          },
          "execution_count": 10
        }
      ]
    },
    {
      "cell_type": "markdown",
      "metadata": {
        "id": "QJtXsXg2wmhB"
      },
      "source": [
        "$\r\n",
        "\\\\\r\n",
        "$\r\n",
        ">$ \r\n",
        "\r\n",
        " \\lambda = \r\n",
        " \\begin{pmatrix}\r\n",
        "  28,9\\\\\r\n",
        "  -19,,9\r\n",
        " \\end{pmatrix}\r\n",
        " \\\\\r\n",
        "Logo,\\ a \\ matriz\\  H(x^*)\\ não \\ é \\ definida \\ neste \\ ponto, \\ o \\ que \\ implica \\ em \\ x^* = \r\n",
        " \\begin{pmatrix}\r\n",
        "  -2,0  \\\\\r\n",
        "  1,0\r\n",
        " \\end{pmatrix}\\ ser \\ um \\ ponto \\ de \r\n",
        " \\\\\r\n",
        "  sela.\r\n",
        "\r\n",
        "$"
      ]
    },
    {
      "cell_type": "markdown",
      "metadata": {
        "id": "Vh2ELk6Rw8dr"
      },
      "source": [
        "$\r\n",
        "\\\\\r\n",
        "$\r\n",
        "## ***Plotando a superfície e as curvas de níveis:***"
      ]
    },
    {
      "cell_type": "code",
      "metadata": {
        "colab": {
          "base_uri": "https://localhost:8080/",
          "height": 248
        },
        "id": "m9j3siKKQw78",
        "outputId": "501ab8ae-8f47-4f00-a0e5-67ec01512f3a"
      },
      "source": [
        "#Plot surface 3d:\r\n",
        "\r\n",
        "from matplotlib import cm\r\n",
        "\r\n",
        "x1 = np.linspace(-5., 5., 50)\r\n",
        "x2 = np.linspace(-5., 5., 50)\r\n",
        "X, Y = np.meshgrid(x1, x2)\r\n",
        "\r\n",
        "Z = 7.5*X**2 + 12*Y**2 - 3*X**2*Y**2 + 18*X + 11\r\n",
        "\r\n",
        "fig, ax = plt.subplots(subplot_kw={'projection': '3d'})\r\n",
        "ax.plot_surface(X, Y, Z, cmap=cm.rainbow)\r\n",
        "\r\n",
        "ax.set_xlabel('$x1$')\r\n",
        "ax.set_ylabel('$x2$')\r\n",
        "ax.set_zlabel('$L(x1,x2)$');"
      ],
      "execution_count": null,
      "outputs": [
        {
          "output_type": "display_data",
          "data": {
            "image/png": "[encoded data removed]",
            "text/plain": [
              "<Figure size 432x288 with 1 Axes>"
            ]
          },
          "metadata": {
            "tags": [],
            "needs_background": "light"
          }
        }
      ]
    },
    {
      "cell_type": "code",
      "metadata": {
        "colab": {
          "base_uri": "https://localhost:8080/",
          "height": 265
        },
        "id": "P-qVL-L5SVqW",
        "outputId": "c6c36c7c-f99f-4b34-9c0b-52d19185af23"
      },
      "source": [
        "#Plot density - contour (with colorbar) - with stationary points:\r\n",
        "\r\n",
        "plt.contourf(X, Y, Z, 50, cmap='RdGy')\r\n",
        "plt.colorbar();\r\n",
        "plt.scatter([-1.2, -2., 2., 2., -2.], [0, -1., 2., -2, 1.])\r\n",
        "plt.annotate(\"(-1.2, 0)\", (-1.2, 0))\r\n",
        "plt.annotate(\"(-2, -1)\", (-2., -1.))\r\n",
        "plt.annotate(\"(2, 2)\", (2., 2.))\r\n",
        "plt.annotate(\"(2, -2)\", (2., -2.))\r\n",
        "plt.annotate(\"(-2, 1)\", (-2., 1.))\r\n",
        "plt.show()"
      ],
      "execution_count": null,
      "outputs": [
        {
          "output_type": "display_data",
          "data": {
            "image/png": "[encoded data removed]",
            "text/plain": [
              "<Figure size 432x288 with 2 Axes>"
            ]
          },
          "metadata": {
            "tags": [],
            "needs_background": "light"
          }
        }
      ]
    },
    {
      "cell_type": "code",
      "metadata": {
        "colab": {
          "base_uri": "https://localhost:8080/"
        },
        "id": "L6x1LUo3TcPh",
        "outputId": "ca96ee99-ac62-4242-b54b-b0e50063b1bf"
      },
      "source": [
        "#Calculando o valor de S(x1,x2) nos pontos estacionários:\r\n",
        "\r\n",
        "Z = 7.5*X**2 + 12*Y**2 - 3*X**2*Y**2 + 18*X + 11\r\n",
        "\r\n",
        "def f(x11, x22):\r\n",
        "    return 7.5*x11**2 + 12*x22**2 - 3*x11**2*x22**2 + 18*x11 + 11\r\n",
        "\r\n",
        "result1 = f(-1.2, 0)\r\n",
        "result2 = f(-2., -1.)\r\n",
        "result3 = f(2., 2.)\r\n",
        "\r\n",
        "print(result1, result2, result3)"
      ],
      "execution_count": null,
      "outputs": [
        {
          "output_type": "stream",
          "text": [
            "0.20000000000000107 5.0 77.0\n"
          ],
          "name": "stdout"
        }
      ]
    },
    {
      "cell_type": "code",
      "metadata": {
        "colab": {
          "base_uri": "https://localhost:8080/",
          "height": 314
        },
        "id": "QwdjBrMSTOyn",
        "outputId": "ab515301-b9e8-4513-f01a-ee24e16543c4"
      },
      "source": [
        "#Plot density - contour (with labels):\r\n",
        "\r\n",
        "Z = 7.5*X**2 + 12*Y**2 - 3*X**2*Y**2 + 18*X + 11\r\n",
        "\r\n",
        "fig, ax = plt.subplots()\r\n",
        "CS = ax.contour(X, Y, Z, [0.2,5.0,77.0], cmap='jet')\r\n",
        "ax.clabel(CS, inline=1, fontsize=10)\r\n",
        "ax.set_title('Countour with labels')\r\n",
        "ax.set_xlabel('$x1$')\r\n",
        "ax.set_ylabel('$x2$')"
      ],
      "execution_count": null,
      "outputs": [
        {
          "output_type": "execute_result",
          "data": {
            "text/plain": [
              "Text(0, 0.5, '$x2$')"
            ]
          },
          "metadata": {
            "tags": []
          },
          "execution_count": 14
        },
        {
          "output_type": "display_data",
          "data": {
            "image/png": "[encoded data removed]",
            "text/plain": [
              "<Figure size 432x288 with 1 Axes>"
            ]
          },
          "metadata": {
            "tags": [],
            "needs_background": "light"
          }
        }
      ]
    }
  ]
}